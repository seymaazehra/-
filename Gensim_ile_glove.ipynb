{
  "nbformat": 4,
  "nbformat_minor": 0,
  "metadata": {
    "colab": {
      "name": "Gensim ile glove.ipynb",
      "provenance": [],
      "authorship_tag": "ABX9TyPen1RkvbcqJ9r8RbqshmYe",
      "include_colab_link": true
    },
    "kernelspec": {
      "name": "python3",
      "display_name": "Python 3"
    },
    "language_info": {
      "name": "python"
    }
  },
  "cells": [
    {
      "cell_type": "markdown",
      "metadata": {
        "id": "view-in-github",
        "colab_type": "text"
      },
      "source": [
        "<a href=\"https://colab.research.google.com/github/seymaazehra/NaturalLanguageProcessing/blob/main/Gensim_ile_glove.ipynb\" target=\"_parent\"><img src=\"https://colab.research.google.com/assets/colab-badge.svg\" alt=\"Open In Colab\"/></a>"
      ]
    },
    {
      "cell_type": "code",
      "execution_count": 47,
      "metadata": {
        "id": "qnJ6-cojZAZ0"
      },
      "outputs": [],
      "source": [
        "from gensim.scripts.glove2word2vec import glove2word2vec\n",
        "from gensim.models import KeyedVectors"
      ]
    },
    {
      "cell_type": "code",
      "source": [
        "from google.colab import drive\n",
        "drive.mount('/gdrive')\n",
        "%cd /gdrive"
      ],
      "metadata": {
        "colab": {
          "base_uri": "https://localhost:8080/"
        },
        "id": "PQrW3ZF6sPLx",
        "outputId": "8905b4fe-2856-48f7-9ce2-723aabb8fc34"
      },
      "execution_count": 48,
      "outputs": [
        {
          "output_type": "stream",
          "name": "stdout",
          "text": [
            "Drive already mounted at /gdrive; to attempt to forcibly remount, call drive.mount(\"/gdrive\", force_remount=True).\n",
            "/gdrive\n"
          ]
        }
      ]
    },
    {
      "cell_type": "code",
      "source": [
        "glove_input = '/gdrive/My Drive/GensimGlove/glove.6B.100d.txt(1)'\n",
        "word2vec_output = '/gdrive/My Drive/GensimGlove/glove.6B.100d.word2vec'  #word2 vektör işlemi yapar\n",
        "glove2word2vec(glove_input, word2vec_output)"
      ],
      "metadata": {
        "id": "GRYh54J8eUJh",
        "outputId": "b3d68066-825d-4b29-bfff-dae61704c44d",
        "colab": {
          "base_uri": "https://localhost:8080/"
        }
      },
      "execution_count": 49,
      "outputs": [
        {
          "output_type": "execute_result",
          "data": {
            "text/plain": [
              "(400000, 100)"
            ]
          },
          "metadata": {},
          "execution_count": 49
        }
      ]
    },
    {
      "cell_type": "code",
      "source": [
        "model = KeyedVectors.load_word2vec_format(word2vec_output, binary=False)"
      ],
      "metadata": {
        "id": "DlnQtnCMgsY9"
      },
      "execution_count": 50,
      "outputs": []
    },
    {
      "cell_type": "code",
      "source": [
        "model['istanbul']"
      ],
      "metadata": {
        "id": "6D69D1Rag6_T",
        "colab": {
          "base_uri": "https://localhost:8080/"
        },
        "outputId": "d1f99938-e823-4f8b-e075-9a43fe356c95"
      },
      "execution_count": 51,
      "outputs": [
        {
          "output_type": "execute_result",
          "data": {
            "text/plain": [
              "array([ 0.40378  ,  0.019734 , -0.15499  , -0.26948  ,  0.33938  ,\n",
              "        0.46476  , -0.53141  ,  0.094519 ,  0.45399  ,  1.3385   ,\n",
              "        0.18271  , -0.3465   ,  0.28323  ,  0.70829  , -0.75002  ,\n",
              "        0.016359 , -0.64514  , -0.54882  , -0.75309  , -0.21617  ,\n",
              "        0.13678  , -0.25198  , -0.037552 ,  0.35938  , -0.33532  ,\n",
              "       -0.78733  ,  0.10907  , -0.13902  ,  0.53454  ,  0.58805  ,\n",
              "       -1.1348   , -0.14574  ,  0.20244  ,  0.81909  , -0.27482  ,\n",
              "        0.14045  ,  0.68814  ,  0.70236  , -0.34211  , -0.62128  ,\n",
              "       -0.10601  , -0.62413  ,  0.30536  , -0.44325  ,  0.64016  ,\n",
              "        0.0020673,  0.88252  ,  0.050356 , -0.35739  ,  0.54686  ,\n",
              "        0.11974  , -0.12593  ,  0.74211  ,  0.65482  , -1.4018   ,\n",
              "       -1.1218   , -0.21188  ,  0.35338  ,  0.53459  ,  0.20205  ,\n",
              "       -0.86132  ,  0.82773  , -0.10065  , -0.19766  , -0.85631  ,\n",
              "        0.27891  , -1.3381   ,  0.19368  , -0.70602  ,  0.067972 ,\n",
              "       -0.80953  , -0.65974  ,  0.50856  , -0.020009 , -0.7665   ,\n",
              "       -0.21865  ,  0.11584  , -0.23323  , -0.73037  ,  0.25433  ,\n",
              "        0.51655  , -0.031959 , -0.34603  ,  0.016619 ,  0.36089  ,\n",
              "       -0.25636  , -0.86198  , -0.16575  , -0.084256 ,  0.21918  ,\n",
              "        0.7003   ,  0.14982  , -0.083508 , -0.16968  , -0.5801   ,\n",
              "        0.96829  ,  0.40106  ,  0.16945  ,  0.74681  ,  0.26952  ],\n",
              "      dtype=float32)"
            ]
          },
          "metadata": {},
          "execution_count": 51
        }
      ]
    },
    {
      "cell_type": "code",
      "source": [
        "model.most_similar('nietzsche')"
      ],
      "metadata": {
        "id": "dsML0Ilag-AZ",
        "colab": {
          "base_uri": "https://localhost:8080/"
        },
        "outputId": "b9aa9aa5-e59a-4eea-e782-d8a6be61a03c"
      },
      "execution_count": 52,
      "outputs": [
        {
          "output_type": "execute_result",
          "data": {
            "text/plain": [
              "[('hegel', 0.7830901145935059),\n",
              " ('wittgenstein', 0.756075382232666),\n",
              " ('kierkegaard', 0.7512296438217163),\n",
              " ('schopenhauer', 0.7255406379699707),\n",
              " ('heidegger', 0.723620593547821),\n",
              " ('marx', 0.685663104057312),\n",
              " ('plato', 0.6711362600326538),\n",
              " ('aristotle', 0.6620676517486572),\n",
              " ('freud', 0.6603443622589111),\n",
              " ('stirner', 0.6526262760162354)]"
            ]
          },
          "metadata": {},
          "execution_count": 52
        }
      ]
    },
    {
      "cell_type": "code",
      "source": [
        "model.most_similar('gandalf')"
      ],
      "metadata": {
        "id": "Bp5YeLrxhEXP",
        "colab": {
          "base_uri": "https://localhost:8080/"
        },
        "outputId": "835d990d-b8b2-4d30-f9da-e873d0808c03"
      },
      "execution_count": 53,
      "outputs": [
        {
          "output_type": "execute_result",
          "data": {
            "text/plain": [
              "[('saruman', 0.6446704268455505),\n",
              " ('aragorn', 0.6229814291000366),\n",
              " ('frodo', 0.6078854203224182),\n",
              " ('gollum', 0.5799626111984253),\n",
              " ('mckellen', 0.5513889789581299),\n",
              " ('bilbo', 0.5447685718536377),\n",
              " ('beelzebub', 0.526114821434021),\n",
              " ('lupin', 0.5255600214004517),\n",
              " ('wizard', 0.5206699371337891),\n",
              " ('starfire', 0.517367959022522)]"
            ]
          },
          "metadata": {},
          "execution_count": 53
        }
      ]
    },
    {
      "cell_type": "code",
      "source": [
        "model.most_similar(positive=['woman','king'], negative=['man'], topn=1) #topn=1 bir sonuc yazdırır"
      ],
      "metadata": {
        "id": "fl-hVn4WhIXx",
        "colab": {
          "base_uri": "https://localhost:8080/"
        },
        "outputId": "f2cba36c-0d69-43b4-f628-f29b5565a5c9"
      },
      "execution_count": 54,
      "outputs": [
        {
          "output_type": "execute_result",
          "data": {
            "text/plain": [
              "[('queen', 0.7698541283607483)]"
            ]
          },
          "metadata": {},
          "execution_count": 54
        }
      ]
    },
    {
      "cell_type": "code",
      "source": [
        "model.most_similar(positive=['bangkok', 'germany'], negative=['berlin'], topn=1)"
      ],
      "metadata": {
        "id": "E4a5d9KRhVbR",
        "colab": {
          "base_uri": "https://localhost:8080/"
        },
        "outputId": "bf1c103d-7590-4886-8582-ef68c0c17da7"
      },
      "execution_count": 55,
      "outputs": [
        {
          "output_type": "execute_result",
          "data": {
            "text/plain": [
              "[('thailand', 0.8427271842956543)]"
            ]
          },
          "metadata": {},
          "execution_count": 55
        }
      ]
    },
    {
      "cell_type": "code",
      "source": [
        "model.most_similar(positive=['teach', 'doctors'], negative=['treat'] ,topn=1)"
      ],
      "metadata": {
        "id": "3AURbjW9hiSS",
        "colab": {
          "base_uri": "https://localhost:8080/"
        },
        "outputId": "5b64cef0-c425-47ac-b7d1-3893686fd0e0"
      },
      "execution_count": 56,
      "outputs": [
        {
          "output_type": "execute_result",
          "data": {
            "text/plain": [
              "[('teachers', 0.7814602255821228)]"
            ]
          },
          "metadata": {},
          "execution_count": 56
        }
      ]
    }
  ]
}