{
  "nbformat": 4,
  "nbformat_minor": 0,
  "metadata": {
    "colab": {
      "name": "1-Tokenleştirme.ipynb adlı dosyanın kopyası",
      "provenance": [],
      "authorship_tag": "ABX9TyPEDCNLj1XKWHGX/hXsqtKE",
      "include_colab_link": true
    },
    "kernelspec": {
      "name": "python3",
      "display_name": "Python 3"
    },
    "language_info": {
      "name": "python"
    }
  },
  "cells": [
    {
      "cell_type": "markdown",
      "metadata": {
        "id": "view-in-github",
        "colab_type": "text"
      },
      "source": [
        "<a href=\"https://colab.research.google.com/github/seymaazehra/-/blob/main/1_Tokenle%C5%9Ftirme_ipynb_adl%C4%B1_dosyan%C4%B1n_kopyas%C4%B1.ipynb\" target=\"_parent\"><img src=\"https://colab.research.google.com/assets/colab-badge.svg\" alt=\"Open In Colab\"/></a>"
      ]
    },
    {
      "cell_type": "code",
      "execution_count": null,
      "metadata": {
        "colab": {
          "base_uri": "https://localhost:8080/"
        },
        "id": "HVI0wmbpMzXD",
        "outputId": "4e0924fe-aca4-4b15-ee20-0f95c15715db"
      },
      "outputs": [
        {
          "output_type": "stream",
          "name": "stdout",
          "text": [
            "[nltk_data] Downloading package punkt to /root/nltk_data...\n",
            "[nltk_data]   Unzipping tokenizers/punkt.zip.\n"
          ]
        },
        {
          "output_type": "execute_result",
          "data": {
            "text/plain": [
              "True"
            ]
          },
          "metadata": {},
          "execution_count": 13
        }
      ],
      "source": [
        "from nltk.tokenize import sent_tokenize, word_tokenize\n",
        "import nltk\n",
        "nltk.download('punkt')"
      ]
    },
    {
      "cell_type": "code",
      "source": [
        "text = \"Alan Turing, İngiliz matematikçi, bilgisayar bilimcisi ve kriptolog. Bilgisayar biliminin kurucusu sayılır. Geliştirmiş oldugu Turing testi ile makinelerin ve bilgisayarların düşünme yetisine sahip olup olamayacakları konusunda bir kriter öne sürmüştür.\""
      ],
      "metadata": {
        "id": "zruJjoJyNAvX"
      },
      "execution_count": null,
      "outputs": []
    },
    {
      "cell_type": "code",
      "source": [
        "text.split()"
      ],
      "metadata": {
        "colab": {
          "base_uri": "https://localhost:8080/"
        },
        "id": "NKY7T1MvNEFp",
        "outputId": "cadca838-bb43-4f12-f4b9-a5659e0c218a"
      },
      "execution_count": null,
      "outputs": [
        {
          "output_type": "execute_result",
          "data": {
            "text/plain": [
              "['Alan',\n",
              " 'Turing,',\n",
              " 'İngiliz',\n",
              " 'matematikçi,',\n",
              " 'bilgisayar',\n",
              " 'bilimcisi',\n",
              " 've',\n",
              " 'kriptolog.',\n",
              " 'Bilgisayar',\n",
              " 'biliminin',\n",
              " 'kurucusu',\n",
              " 'sayılır.',\n",
              " 'Geliştirmiş',\n",
              " 'oldugu',\n",
              " 'Turing',\n",
              " 'testi',\n",
              " 'ile',\n",
              " 'makinelerin',\n",
              " 've',\n",
              " 'bilgisayarların',\n",
              " 'düşünme',\n",
              " 'yetisine',\n",
              " 'sahip',\n",
              " 'olup',\n",
              " 'olamayacakları',\n",
              " 'konusunda',\n",
              " 'bir',\n",
              " 'kriter',\n",
              " 'öne',\n",
              " 'sürmüştür.']"
            ]
          },
          "metadata": {},
          "execution_count": 15
        }
      ]
    },
    {
      "cell_type": "code",
      "source": [
        "word_tokenize(text)"
      ],
      "metadata": {
        "colab": {
          "base_uri": "https://localhost:8080/"
        },
        "id": "YX4AR9Y1NH4j",
        "outputId": "66311d0f-9070-49f6-ba03-f971f97100bc"
      },
      "execution_count": null,
      "outputs": [
        {
          "output_type": "execute_result",
          "data": {
            "text/plain": [
              "['Alan',\n",
              " 'Turing',\n",
              " ',',\n",
              " 'İngiliz',\n",
              " 'matematikçi',\n",
              " ',',\n",
              " 'bilgisayar',\n",
              " 'bilimcisi',\n",
              " 've',\n",
              " 'kriptolog',\n",
              " '.',\n",
              " 'Bilgisayar',\n",
              " 'biliminin',\n",
              " 'kurucusu',\n",
              " 'sayılır',\n",
              " '.',\n",
              " 'Geliştirmiş',\n",
              " 'oldugu',\n",
              " 'Turing',\n",
              " 'testi',\n",
              " 'ile',\n",
              " 'makinelerin',\n",
              " 've',\n",
              " 'bilgisayarların',\n",
              " 'düşünme',\n",
              " 'yetisine',\n",
              " 'sahip',\n",
              " 'olup',\n",
              " 'olamayacakları',\n",
              " 'konusunda',\n",
              " 'bir',\n",
              " 'kriter',\n",
              " 'öne',\n",
              " 'sürmüştür',\n",
              " '.']"
            ]
          },
          "metadata": {},
          "execution_count": 16
        }
      ]
    },
    {
      "cell_type": "code",
      "source": [
        "sent_tokenize(text)"
      ],
      "metadata": {
        "colab": {
          "base_uri": "https://localhost:8080/"
        },
        "id": "r8z0K1kkOGC6",
        "outputId": "f24b997d-382f-498c-ac7b-ac6f78edc687"
      },
      "execution_count": null,
      "outputs": [
        {
          "output_type": "execute_result",
          "data": {
            "text/plain": [
              "['Alan Turing, İngiliz matematikçi, bilgisayar bilimcisi ve kriptolog.',\n",
              " 'Bilgisayar biliminin kurucusu sayılır.',\n",
              " 'Geliştirmiş oldugu Turing testi ile makinelerin ve bilgisayarların düşünme yetisine sahip olup olamayacakları konusunda bir kriter öne sürmüştür.']"
            ]
          },
          "metadata": {},
          "execution_count": 17
        }
      ]
    },
    {
      "cell_type": "code",
      "source": [
        "for token in word_tokenize(text):\n",
        "  print(token)"
      ],
      "metadata": {
        "colab": {
          "base_uri": "https://localhost:8080/"
        },
        "id": "lNZWLZ1eOdyv",
        "outputId": "3ce0f94a-0996-4310-edbe-c841c4ed57ef"
      },
      "execution_count": null,
      "outputs": [
        {
          "output_type": "stream",
          "name": "stdout",
          "text": [
            "Alan\n",
            "Turing\n",
            ",\n",
            "İngiliz\n",
            "matematikçi\n",
            ",\n",
            "bilgisayar\n",
            "bilimcisi\n",
            "ve\n",
            "kriptolog\n",
            ".\n",
            "Bilgisayar\n",
            "biliminin\n",
            "kurucusu\n",
            "sayılır\n",
            ".\n",
            "Geliştirmiş\n",
            "oldugu\n",
            "Turing\n",
            "testi\n",
            "ile\n",
            "makinelerin\n",
            "ve\n",
            "bilgisayarların\n",
            "düşünme\n",
            "yetisine\n",
            "sahip\n",
            "olup\n",
            "olamayacakları\n",
            "konusunda\n",
            "bir\n",
            "kriter\n",
            "öne\n",
            "sürmüştür\n",
            ".\n"
          ]
        }
      ]
    },
    {
      "cell_type": "code",
      "source": [
        ""
      ],
      "metadata": {
        "id": "0TcRVMa1OyjL"
      },
      "execution_count": null,
      "outputs": []
    }
  ]
}