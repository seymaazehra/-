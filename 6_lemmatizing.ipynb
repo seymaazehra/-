{
  "nbformat": 4,
  "nbformat_minor": 0,
  "metadata": {
    "colab": {
      "name": "6-lemmatizing.ipynb",
      "provenance": [],
      "authorship_tag": "ABX9TyOxQYH/OCeq1EOWB2SY7yu1",
      "include_colab_link": true
    },
    "kernelspec": {
      "name": "python3",
      "display_name": "Python 3"
    },
    "language_info": {
      "name": "python"
    }
  },
  "cells": [
    {
      "cell_type": "markdown",
      "metadata": {
        "id": "view-in-github",
        "colab_type": "text"
      },
      "source": [
        "<a href=\"https://colab.research.google.com/github/seymaazehra/NaturalLanguageProcessing/blob/main/6_lemmatizing.ipynb\" target=\"_parent\"><img src=\"https://colab.research.google.com/assets/colab-badge.svg\" alt=\"Open In Colab\"/></a>"
      ]
    },
    {
      "cell_type": "code",
      "execution_count": 1,
      "metadata": {
        "colab": {
          "base_uri": "https://localhost:8080/"
        },
        "id": "zCxGacCGd9NX",
        "outputId": "97e32d9b-60cd-4a1b-b534-23e38a391fde"
      },
      "outputs": [
        {
          "output_type": "stream",
          "name": "stdout",
          "text": [
            "[nltk_data] Downloading package wordnet to /root/nltk_data...\n",
            "[nltk_data]   Unzipping corpora/wordnet.zip.\n"
          ]
        }
      ],
      "source": [
        "from nltk.stem import WordNetLemmatizer\n",
        "import nltk\n",
        "nltk.download('wordnet')\n",
        "from nltk.stem import PorterStemmer"
      ]
    },
    {
      "cell_type": "code",
      "source": [
        "lem = WordNetLemmatizer() #stemmer a göre daha performanslı çalışır daha iyi kök bulur\n",
        "words = ['Drive', 'driving', 'driver', 'drives', 'drove', 'cats', 'children']\n",
        "for w in words:\n",
        "  print(lem.lemmatize(w))"
      ],
      "metadata": {
        "colab": {
          "base_uri": "https://localhost:8080/"
        },
        "id": "A3fGX86KeOa7",
        "outputId": "c6cfdc6d-05c1-4b48-a805-d7954d027ba6"
      },
      "execution_count": 2,
      "outputs": [
        {
          "output_type": "stream",
          "name": "stdout",
          "text": [
            "Drive\n",
            "driving\n",
            "driver\n",
            "drive\n",
            "drove\n",
            "cat\n",
            "child\n"
          ]
        }
      ]
    },
    {
      "cell_type": "code",
      "source": [
        "lem.lemmatize('worst','a') #drove kelimesinin verb oldugu belirtilir ,better -adjective"
      ],
      "metadata": {
        "colab": {
          "base_uri": "https://localhost:8080/",
          "height": 35
        },
        "id": "seMCMSpoeVzJ",
        "outputId": "6e91f8fb-2bd3-400d-e3f8-82eb3954c0c4"
      },
      "execution_count": 3,
      "outputs": [
        {
          "output_type": "execute_result",
          "data": {
            "text/plain": [
              "'bad'"
            ],
            "application/vnd.google.colaboratory.intrinsic+json": {
              "type": "string"
            }
          },
          "metadata": {},
          "execution_count": 3
        }
      ]
    },
    {
      "cell_type": "code",
      "source": [
        "ps = PorterStemmer() #büyük harflerde performanslı \n",
        "for w in words:\n",
        "  print (ps.stem(w))"
      ],
      "metadata": {
        "colab": {
          "base_uri": "https://localhost:8080/"
        },
        "id": "ZlSzkhL6fSiY",
        "outputId": "3936e7b4-9d7b-4173-9011-402a371adbdd"
      },
      "execution_count": 4,
      "outputs": [
        {
          "output_type": "stream",
          "name": "stdout",
          "text": [
            "drive\n",
            "drive\n",
            "driver\n",
            "drive\n",
            "drove\n",
            "cat\n",
            "children\n"
          ]
        }
      ]
    }
  ]
}